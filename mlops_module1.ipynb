{
 "cells": [
  {
   "cell_type": "code",
   "execution_count": 22,
   "id": "b7a613ab",
   "metadata": {},
   "outputs": [
    {
     "name": "stdout",
     "output_type": "stream",
     "text": [
      "Python 3.7.3\n"
     ]
    }
   ],
   "source": [
    "!python -V"
   ]
  },
  {
   "cell_type": "code",
   "execution_count": 23,
   "id": "8a4f0e66",
   "metadata": {},
   "outputs": [],
   "source": [
    "import pandas as pd\n",
    "import numpy as np\n",
    "import pickle\n",
    "import seaborn as sns\n",
    "import matplotlib.pyplot as plt\n",
    "from sklearn.feature_extraction import DictVectorizer\n",
    "from sklearn.linear_model import LinearRegression\n",
    "from sklearn.linear_model import Lasso\n",
    "from sklearn.linear_model import Ridge\n",
    "from sklearn.metrics import mean_squared_error\n",
    "import pycaret\n",
    "from pycaret.regression import *"
   ]
  },
  {
   "cell_type": "code",
   "execution_count": 24,
   "id": "f695c05c",
   "metadata": {},
   "outputs": [],
   "source": [
    "jan_tbl = pd.read_csv('data/jan.csv')\n",
    "feb_tbl = pd.read_csv('data/feb.csv')"
   ]
  },
  {
   "cell_type": "markdown",
   "id": "6167c7b5",
   "metadata": {},
   "source": [
    "## check the shape of the jan dataframe"
   ]
  },
  {
   "cell_type": "code",
   "execution_count": 26,
   "id": "504cffae",
   "metadata": {},
   "outputs": [
    {
     "data": {
      "text/plain": [
       "(1143691, 7)"
      ]
     },
     "execution_count": 26,
     "metadata": {},
     "output_type": "execute_result"
    }
   ],
   "source": [
    "jan_tbl.shape"
   ]
  },
  {
   "cell_type": "code",
   "execution_count": 27,
   "id": "dc5a2d50",
   "metadata": {},
   "outputs": [
    {
     "data": {
      "text/plain": [
       "Index(['dispatching_base_num', 'pickup_datetime', 'dropOff_datetime',\n",
       "       'PUlocationID', 'DOlocationID', 'SR_Flag', 'Affiliated_base_number'],\n",
       "      dtype='object')"
      ]
     },
     "execution_count": 27,
     "metadata": {},
     "output_type": "execute_result"
    }
   ],
   "source": [
    "jan_tbl.columns"
   ]
  },
  {
   "cell_type": "code",
   "execution_count": 28,
   "id": "6497794e",
   "metadata": {},
   "outputs": [
    {
     "name": "stdout",
     "output_type": "stream",
     "text": [
      "<class 'pandas.core.frame.DataFrame'>\n",
      "RangeIndex: 1143691 entries, 0 to 1143690\n",
      "Data columns (total 7 columns):\n",
      " #   Column                  Non-Null Count    Dtype  \n",
      "---  ------                  --------------    -----  \n",
      " 0   dispatching_base_num    1143691 non-null  object \n",
      " 1   pickup_datetime         1143691 non-null  object \n",
      " 2   dropOff_datetime        1143691 non-null  object \n",
      " 3   PUlocationID            267997 non-null   float64\n",
      " 4   DOlocationID            1012291 non-null  float64\n",
      " 5   SR_Flag                 0 non-null        float64\n",
      " 6   Affiliated_base_number  1064376 non-null  object \n",
      "dtypes: float64(3), object(4)\n",
      "memory usage: 61.1+ MB\n"
     ]
    }
   ],
   "source": [
    "jan_tbl.info()"
   ]
  },
  {
   "cell_type": "markdown",
   "id": "f7b0f92c",
   "metadata": {},
   "source": [
    "## Compute duration from `pickup_datetime` and `dropOff_datetime` fields"
   ]
  },
  {
   "cell_type": "code",
   "execution_count": 29,
   "id": "53e83669",
   "metadata": {},
   "outputs": [],
   "source": [
    "jan_tbl['pickup_datetime'] = pd.to_datetime(jan_tbl['pickup_datetime'])\n",
    "jan_tbl['dropOff_datetime'] = pd.to_datetime(jan_tbl['dropOff_datetime'])"
   ]
  },
  {
   "cell_type": "code",
   "execution_count": 30,
   "id": "e1b88415",
   "metadata": {},
   "outputs": [],
   "source": [
    "jan_tbl['duration'] = jan_tbl['dropOff_datetime'] - jan_tbl['pickup_datetime']\n",
    "\n",
    "jan_tbl['duration'] = jan_tbl.duration.apply(lambda td: td.total_seconds() / 60)"
   ]
  },
  {
   "cell_type": "code",
   "execution_count": 31,
   "id": "fd481ce1",
   "metadata": {},
   "outputs": [
    {
     "data": {
      "text/html": [
       "<div>\n",
       "<style scoped>\n",
       "    .dataframe tbody tr th:only-of-type {\n",
       "        vertical-align: middle;\n",
       "    }\n",
       "\n",
       "    .dataframe tbody tr th {\n",
       "        vertical-align: top;\n",
       "    }\n",
       "\n",
       "    .dataframe thead th {\n",
       "        text-align: right;\n",
       "    }\n",
       "</style>\n",
       "<table border=\"1\" class=\"dataframe\">\n",
       "  <thead>\n",
       "    <tr style=\"text-align: right;\">\n",
       "      <th></th>\n",
       "      <th>count</th>\n",
       "      <th>mean</th>\n",
       "      <th>std</th>\n",
       "      <th>min</th>\n",
       "      <th>25%</th>\n",
       "      <th>50%</th>\n",
       "      <th>75%</th>\n",
       "      <th>max</th>\n",
       "    </tr>\n",
       "  </thead>\n",
       "  <tbody>\n",
       "    <tr>\n",
       "      <th>PUlocationID</th>\n",
       "      <td>267997.0</td>\n",
       "      <td>134.015870</td>\n",
       "      <td>74.352860</td>\n",
       "      <td>1.000000</td>\n",
       "      <td>72.000000</td>\n",
       "      <td>132.000000</td>\n",
       "      <td>205.000000</td>\n",
       "      <td>265.0</td>\n",
       "    </tr>\n",
       "    <tr>\n",
       "      <th>DOlocationID</th>\n",
       "      <td>1012291.0</td>\n",
       "      <td>132.958111</td>\n",
       "      <td>80.774975</td>\n",
       "      <td>1.000000</td>\n",
       "      <td>62.000000</td>\n",
       "      <td>130.000000</td>\n",
       "      <td>212.000000</td>\n",
       "      <td>265.0</td>\n",
       "    </tr>\n",
       "    <tr>\n",
       "      <th>SR_Flag</th>\n",
       "      <td>0.0</td>\n",
       "      <td>NaN</td>\n",
       "      <td>NaN</td>\n",
       "      <td>NaN</td>\n",
       "      <td>NaN</td>\n",
       "      <td>NaN</td>\n",
       "      <td>NaN</td>\n",
       "      <td>NaN</td>\n",
       "    </tr>\n",
       "    <tr>\n",
       "      <th>duration</th>\n",
       "      <td>1143691.0</td>\n",
       "      <td>22.550803</td>\n",
       "      <td>469.699892</td>\n",
       "      <td>0.016667</td>\n",
       "      <td>8.433333</td>\n",
       "      <td>14.866667</td>\n",
       "      <td>25.633333</td>\n",
       "      <td>436365.0</td>\n",
       "    </tr>\n",
       "  </tbody>\n",
       "</table>\n",
       "</div>"
      ],
      "text/plain": [
       "                  count        mean         std       min        25%  \\\n",
       "PUlocationID   267997.0  134.015870   74.352860  1.000000  72.000000   \n",
       "DOlocationID  1012291.0  132.958111   80.774975  1.000000  62.000000   \n",
       "SR_Flag             0.0         NaN         NaN       NaN        NaN   \n",
       "duration      1143691.0   22.550803  469.699892  0.016667   8.433333   \n",
       "\n",
       "                     50%         75%       max  \n",
       "PUlocationID  132.000000  205.000000     265.0  \n",
       "DOlocationID  130.000000  212.000000     265.0  \n",
       "SR_Flag              NaN         NaN       NaN  \n",
       "duration       14.866667   25.633333  436365.0  "
      ]
     },
     "execution_count": 31,
     "metadata": {},
     "output_type": "execute_result"
    }
   ],
   "source": [
    "jan_tbl.describe().T"
   ]
  },
  {
   "cell_type": "code",
   "execution_count": 32,
   "id": "9c3055b1",
   "metadata": {},
   "outputs": [],
   "source": [
    "feb_tbl['pickup_datetime'] = pd.to_datetime(feb_tbl['pickup_datetime'])\n",
    "feb_tbl['dropOff_datetime'] = pd.to_datetime(feb_tbl['dropOff_datetime'])"
   ]
  },
  {
   "cell_type": "code",
   "execution_count": 33,
   "id": "f697c936",
   "metadata": {},
   "outputs": [],
   "source": [
    "feb_tbl['duration'] = feb_tbl['dropOff_datetime'] - feb_tbl['pickup_datetime']\n",
    "\n",
    "feb_tbl['duration'] = feb_tbl.duration.apply(lambda td: td.total_seconds() / 60)"
   ]
  },
  {
   "cell_type": "code",
   "execution_count": 34,
   "id": "1185b0e8",
   "metadata": {},
   "outputs": [
    {
     "data": {
      "text/html": [
       "<div>\n",
       "<style scoped>\n",
       "    .dataframe tbody tr th:only-of-type {\n",
       "        vertical-align: middle;\n",
       "    }\n",
       "\n",
       "    .dataframe tbody tr th {\n",
       "        vertical-align: top;\n",
       "    }\n",
       "\n",
       "    .dataframe thead th {\n",
       "        text-align: right;\n",
       "    }\n",
       "</style>\n",
       "<table border=\"1\" class=\"dataframe\">\n",
       "  <thead>\n",
       "    <tr style=\"text-align: right;\">\n",
       "      <th></th>\n",
       "      <th>count</th>\n",
       "      <th>mean</th>\n",
       "      <th>std</th>\n",
       "      <th>min</th>\n",
       "      <th>25%</th>\n",
       "      <th>50%</th>\n",
       "      <th>75%</th>\n",
       "      <th>max</th>\n",
       "    </tr>\n",
       "  </thead>\n",
       "  <tbody>\n",
       "    <tr>\n",
       "      <th>PUlocationID</th>\n",
       "      <td>267997.0</td>\n",
       "      <td>134.015870</td>\n",
       "      <td>74.352860</td>\n",
       "      <td>1.000000</td>\n",
       "      <td>72.000000</td>\n",
       "      <td>132.000000</td>\n",
       "      <td>205.000000</td>\n",
       "      <td>265.0</td>\n",
       "    </tr>\n",
       "    <tr>\n",
       "      <th>DOlocationID</th>\n",
       "      <td>1012291.0</td>\n",
       "      <td>132.958111</td>\n",
       "      <td>80.774975</td>\n",
       "      <td>1.000000</td>\n",
       "      <td>62.000000</td>\n",
       "      <td>130.000000</td>\n",
       "      <td>212.000000</td>\n",
       "      <td>265.0</td>\n",
       "    </tr>\n",
       "    <tr>\n",
       "      <th>SR_Flag</th>\n",
       "      <td>0.0</td>\n",
       "      <td>NaN</td>\n",
       "      <td>NaN</td>\n",
       "      <td>NaN</td>\n",
       "      <td>NaN</td>\n",
       "      <td>NaN</td>\n",
       "      <td>NaN</td>\n",
       "      <td>NaN</td>\n",
       "    </tr>\n",
       "    <tr>\n",
       "      <th>duration</th>\n",
       "      <td>1143691.0</td>\n",
       "      <td>22.550803</td>\n",
       "      <td>469.699892</td>\n",
       "      <td>0.016667</td>\n",
       "      <td>8.433333</td>\n",
       "      <td>14.866667</td>\n",
       "      <td>25.633333</td>\n",
       "      <td>436365.0</td>\n",
       "    </tr>\n",
       "  </tbody>\n",
       "</table>\n",
       "</div>"
      ],
      "text/plain": [
       "                  count        mean         std       min        25%  \\\n",
       "PUlocationID   267997.0  134.015870   74.352860  1.000000  72.000000   \n",
       "DOlocationID  1012291.0  132.958111   80.774975  1.000000  62.000000   \n",
       "SR_Flag             0.0         NaN         NaN       NaN        NaN   \n",
       "duration      1143691.0   22.550803  469.699892  0.016667   8.433333   \n",
       "\n",
       "                     50%         75%       max  \n",
       "PUlocationID  132.000000  205.000000     265.0  \n",
       "DOlocationID  130.000000  212.000000     265.0  \n",
       "SR_Flag              NaN         NaN       NaN  \n",
       "duration       14.866667   25.633333  436365.0  "
      ]
     },
     "execution_count": 34,
     "metadata": {},
     "output_type": "execute_result"
    }
   ],
   "source": [
    "jan_tbl.describe().T"
   ]
  },
  {
   "cell_type": "code",
   "execution_count": 35,
   "id": "86f47623",
   "metadata": {},
   "outputs": [
    {
     "data": {
      "text/plain": [
       "dispatching_base_num        0.000000\n",
       "pickup_datetime             0.000000\n",
       "dropOff_datetime            0.000000\n",
       "PUlocationID               76.567360\n",
       "DOlocationID               11.489117\n",
       "SR_Flag                   100.000000\n",
       "Affiliated_base_number      6.935003\n",
       "duration                    0.000000\n",
       "dtype: float64"
      ]
     },
     "execution_count": 35,
     "metadata": {},
     "output_type": "execute_result"
    }
   ],
   "source": [
    "jan_tbl.isnull().mean() * 100"
   ]
  },
  {
   "cell_type": "code",
   "execution_count": 36,
   "id": "0da0e53e",
   "metadata": {},
   "outputs": [
    {
     "data": {
      "text/html": [
       "<div>\n",
       "<style scoped>\n",
       "    .dataframe tbody tr th:only-of-type {\n",
       "        vertical-align: middle;\n",
       "    }\n",
       "\n",
       "    .dataframe tbody tr th {\n",
       "        vertical-align: top;\n",
       "    }\n",
       "\n",
       "    .dataframe thead th {\n",
       "        text-align: right;\n",
       "    }\n",
       "</style>\n",
       "<table border=\"1\" class=\"dataframe\">\n",
       "  <thead>\n",
       "    <tr style=\"text-align: right;\">\n",
       "      <th></th>\n",
       "      <th>dispatching_base_num</th>\n",
       "      <th>pickup_datetime</th>\n",
       "      <th>dropOff_datetime</th>\n",
       "      <th>PUlocationID</th>\n",
       "      <th>DOlocationID</th>\n",
       "      <th>SR_Flag</th>\n",
       "      <th>Affiliated_base_number</th>\n",
       "      <th>duration</th>\n",
       "    </tr>\n",
       "  </thead>\n",
       "  <tbody>\n",
       "    <tr>\n",
       "      <th>0</th>\n",
       "      <td>B00009</td>\n",
       "      <td>2022-01-01 00:31:00+00:00</td>\n",
       "      <td>2022-01-01 01:05:00+00:00</td>\n",
       "      <td>NaN</td>\n",
       "      <td>NaN</td>\n",
       "      <td>NaN</td>\n",
       "      <td>B00009</td>\n",
       "      <td>34.000000</td>\n",
       "    </tr>\n",
       "    <tr>\n",
       "      <th>1</th>\n",
       "      <td>B00009</td>\n",
       "      <td>2022-01-01 00:37:00+00:00</td>\n",
       "      <td>2022-01-01 01:05:00+00:00</td>\n",
       "      <td>NaN</td>\n",
       "      <td>NaN</td>\n",
       "      <td>NaN</td>\n",
       "      <td>B00009</td>\n",
       "      <td>28.000000</td>\n",
       "    </tr>\n",
       "    <tr>\n",
       "      <th>2</th>\n",
       "      <td>B00037</td>\n",
       "      <td>2022-01-01 00:56:37+00:00</td>\n",
       "      <td>2022-01-01 01:06:11+00:00</td>\n",
       "      <td>NaN</td>\n",
       "      <td>85.0</td>\n",
       "      <td>NaN</td>\n",
       "      <td>B00037</td>\n",
       "      <td>9.566667</td>\n",
       "    </tr>\n",
       "    <tr>\n",
       "      <th>3</th>\n",
       "      <td>B00037</td>\n",
       "      <td>2022-01-01 00:19:54+00:00</td>\n",
       "      <td>2022-01-01 00:30:47+00:00</td>\n",
       "      <td>NaN</td>\n",
       "      <td>85.0</td>\n",
       "      <td>NaN</td>\n",
       "      <td>B00037</td>\n",
       "      <td>10.883333</td>\n",
       "    </tr>\n",
       "    <tr>\n",
       "      <th>4</th>\n",
       "      <td>B00037</td>\n",
       "      <td>2022-01-01 00:41:49+00:00</td>\n",
       "      <td>2022-01-01 00:52:16+00:00</td>\n",
       "      <td>NaN</td>\n",
       "      <td>188.0</td>\n",
       "      <td>NaN</td>\n",
       "      <td>B00037</td>\n",
       "      <td>10.450000</td>\n",
       "    </tr>\n",
       "  </tbody>\n",
       "</table>\n",
       "</div>"
      ],
      "text/plain": [
       "  dispatching_base_num           pickup_datetime          dropOff_datetime  \\\n",
       "0               B00009 2022-01-01 00:31:00+00:00 2022-01-01 01:05:00+00:00   \n",
       "1               B00009 2022-01-01 00:37:00+00:00 2022-01-01 01:05:00+00:00   \n",
       "2               B00037 2022-01-01 00:56:37+00:00 2022-01-01 01:06:11+00:00   \n",
       "3               B00037 2022-01-01 00:19:54+00:00 2022-01-01 00:30:47+00:00   \n",
       "4               B00037 2022-01-01 00:41:49+00:00 2022-01-01 00:52:16+00:00   \n",
       "\n",
       "   PUlocationID  DOlocationID  SR_Flag Affiliated_base_number   duration  \n",
       "0           NaN           NaN      NaN                 B00009  34.000000  \n",
       "1           NaN           NaN      NaN                 B00009  28.000000  \n",
       "2           NaN          85.0      NaN                 B00037   9.566667  \n",
       "3           NaN          85.0      NaN                 B00037  10.883333  \n",
       "4           NaN         188.0      NaN                 B00037  10.450000  "
      ]
     },
     "execution_count": 36,
     "metadata": {},
     "output_type": "execute_result"
    }
   ],
   "source": [
    "jan_tbl.head()"
   ]
  },
  {
   "cell_type": "markdown",
   "id": "6089f520",
   "metadata": {},
   "source": [
    "## Modeling with `pycaret`"
   ]
  },
  {
   "cell_type": "code",
   "execution_count": 40,
   "id": "96905193",
   "metadata": {},
   "outputs": [
    {
     "data": {
      "text/html": [
       "<style type=\"text/css\">\n",
       "#T_f3f72_ th {\n",
       "  text-align: left;\n",
       "}\n",
       "#T_f3f72_row0_col0, #T_f3f72_row0_col1, #T_f3f72_row0_col2, #T_f3f72_row0_col3, #T_f3f72_row0_col5, #T_f3f72_row0_col6, #T_f3f72_row1_col0, #T_f3f72_row1_col1, #T_f3f72_row1_col3, #T_f3f72_row1_col5, #T_f3f72_row1_col6, #T_f3f72_row2_col0, #T_f3f72_row2_col1, #T_f3f72_row2_col2, #T_f3f72_row2_col5, #T_f3f72_row2_col6, #T_f3f72_row3_col0, #T_f3f72_row3_col1, #T_f3f72_row3_col2, #T_f3f72_row3_col3, #T_f3f72_row3_col5, #T_f3f72_row3_col6, #T_f3f72_row4_col0, #T_f3f72_row4_col1, #T_f3f72_row4_col2, #T_f3f72_row4_col3, #T_f3f72_row4_col4, #T_f3f72_row4_col5, #T_f3f72_row4_col6, #T_f3f72_row5_col0, #T_f3f72_row5_col1, #T_f3f72_row5_col2, #T_f3f72_row5_col3, #T_f3f72_row5_col4, #T_f3f72_row5_col5, #T_f3f72_row5_col6, #T_f3f72_row6_col0, #T_f3f72_row6_col1, #T_f3f72_row6_col2, #T_f3f72_row6_col3, #T_f3f72_row6_col4, #T_f3f72_row6_col5, #T_f3f72_row6_col6, #T_f3f72_row7_col0, #T_f3f72_row7_col1, #T_f3f72_row7_col2, #T_f3f72_row7_col3, #T_f3f72_row7_col4, #T_f3f72_row7_col5, #T_f3f72_row7_col6, #T_f3f72_row8_col0, #T_f3f72_row8_col1, #T_f3f72_row8_col2, #T_f3f72_row8_col3, #T_f3f72_row8_col4, #T_f3f72_row8_col5, #T_f3f72_row8_col6, #T_f3f72_row9_col0, #T_f3f72_row9_col1, #T_f3f72_row9_col2, #T_f3f72_row9_col3, #T_f3f72_row9_col4, #T_f3f72_row9_col5, #T_f3f72_row9_col6, #T_f3f72_row10_col0, #T_f3f72_row10_col1, #T_f3f72_row10_col2, #T_f3f72_row10_col3, #T_f3f72_row10_col4, #T_f3f72_row10_col5, #T_f3f72_row10_col6, #T_f3f72_row11_col0, #T_f3f72_row11_col1, #T_f3f72_row11_col2, #T_f3f72_row11_col3, #T_f3f72_row11_col4, #T_f3f72_row11_col5, #T_f3f72_row11_col6, #T_f3f72_row12_col0, #T_f3f72_row12_col2, #T_f3f72_row12_col3, #T_f3f72_row12_col4, #T_f3f72_row13_col0, #T_f3f72_row13_col1, #T_f3f72_row13_col2, #T_f3f72_row13_col3, #T_f3f72_row13_col4, #T_f3f72_row13_col5, #T_f3f72_row13_col6, #T_f3f72_row14_col0, #T_f3f72_row14_col1, #T_f3f72_row14_col2, #T_f3f72_row14_col3, #T_f3f72_row14_col4, #T_f3f72_row14_col5, #T_f3f72_row14_col6, #T_f3f72_row15_col0, #T_f3f72_row15_col1, #T_f3f72_row15_col2, #T_f3f72_row15_col3, #T_f3f72_row15_col4, #T_f3f72_row15_col5, #T_f3f72_row15_col6, #T_f3f72_row16_col0, #T_f3f72_row16_col1, #T_f3f72_row16_col2, #T_f3f72_row16_col3, #T_f3f72_row16_col4, #T_f3f72_row16_col5, #T_f3f72_row16_col6, #T_f3f72_row17_col0, #T_f3f72_row17_col1, #T_f3f72_row17_col2, #T_f3f72_row17_col3, #T_f3f72_row17_col4, #T_f3f72_row17_col5, #T_f3f72_row17_col6, #T_f3f72_row18_col0, #T_f3f72_row18_col1, #T_f3f72_row18_col2, #T_f3f72_row18_col3, #T_f3f72_row18_col4, #T_f3f72_row18_col5, #T_f3f72_row18_col6, #T_f3f72_row19_col0, #T_f3f72_row19_col1, #T_f3f72_row19_col2, #T_f3f72_row19_col3, #T_f3f72_row19_col4, #T_f3f72_row19_col5, #T_f3f72_row19_col6 {\n",
       "  text-align: left;\n",
       "}\n",
       "#T_f3f72_row0_col4, #T_f3f72_row1_col2, #T_f3f72_row1_col4, #T_f3f72_row2_col3, #T_f3f72_row2_col4, #T_f3f72_row3_col4, #T_f3f72_row12_col1, #T_f3f72_row12_col5, #T_f3f72_row12_col6 {\n",
       "  text-align: left;\n",
       "  background-color: yellow;\n",
       "}\n",
       "#T_f3f72_row0_col7, #T_f3f72_row1_col7, #T_f3f72_row2_col7, #T_f3f72_row3_col7, #T_f3f72_row4_col7, #T_f3f72_row5_col7, #T_f3f72_row6_col7, #T_f3f72_row8_col7, #T_f3f72_row9_col7, #T_f3f72_row10_col7, #T_f3f72_row11_col7, #T_f3f72_row12_col7, #T_f3f72_row13_col7, #T_f3f72_row14_col7, #T_f3f72_row15_col7, #T_f3f72_row16_col7, #T_f3f72_row17_col7, #T_f3f72_row18_col7, #T_f3f72_row19_col7 {\n",
       "  text-align: left;\n",
       "  background-color: lightgrey;\n",
       "}\n",
       "#T_f3f72_row7_col7 {\n",
       "  text-align: left;\n",
       "  background-color: yellow;\n",
       "  background-color: lightgrey;\n",
       "}\n",
       "</style>\n",
       "<table id=\"T_f3f72_\">\n",
       "  <thead>\n",
       "    <tr>\n",
       "      <th class=\"blank level0\" >&nbsp;</th>\n",
       "      <th class=\"col_heading level0 col0\" >Model</th>\n",
       "      <th class=\"col_heading level0 col1\" >MAE</th>\n",
       "      <th class=\"col_heading level0 col2\" >MSE</th>\n",
       "      <th class=\"col_heading level0 col3\" >RMSE</th>\n",
       "      <th class=\"col_heading level0 col4\" >R2</th>\n",
       "      <th class=\"col_heading level0 col5\" >RMSLE</th>\n",
       "      <th class=\"col_heading level0 col6\" >MAPE</th>\n",
       "      <th class=\"col_heading level0 col7\" >TT (Sec)</th>\n",
       "    </tr>\n",
       "  </thead>\n",
       "  <tbody>\n",
       "    <tr>\n",
       "      <th id=\"T_f3f72_level0_row0\" class=\"row_heading level0 row0\" >lasso</th>\n",
       "      <td id=\"T_f3f72_row0_col0\" class=\"data row0 col0\" >Lasso Regression</td>\n",
       "      <td id=\"T_f3f72_row0_col1\" class=\"data row0 col1\" >15.6232</td>\n",
       "      <td id=\"T_f3f72_row0_col2\" class=\"data row0 col2\" >74188.1171</td>\n",
       "      <td id=\"T_f3f72_row0_col3\" class=\"data row0 col3\" >177.8005</td>\n",
       "      <td id=\"T_f3f72_row0_col4\" class=\"data row0 col4\" >-0.0001</td>\n",
       "      <td id=\"T_f3f72_row0_col5\" class=\"data row0 col5\" >0.9097</td>\n",
       "      <td id=\"T_f3f72_row0_col6\" class=\"data row0 col6\" >4.6935</td>\n",
       "      <td id=\"T_f3f72_row0_col7\" class=\"data row0 col7\" >0.1080</td>\n",
       "    </tr>\n",
       "    <tr>\n",
       "      <th id=\"T_f3f72_level0_row1\" class=\"row_heading level0 row1\" >omp</th>\n",
       "      <td id=\"T_f3f72_row1_col0\" class=\"data row1 col0\" >Orthogonal Matching Pursuit</td>\n",
       "      <td id=\"T_f3f72_row1_col1\" class=\"data row1 col1\" >15.6216</td>\n",
       "      <td id=\"T_f3f72_row1_col2\" class=\"data row1 col2\" >74188.0132</td>\n",
       "      <td id=\"T_f3f72_row1_col3\" class=\"data row1 col3\" >177.7996</td>\n",
       "      <td id=\"T_f3f72_row1_col4\" class=\"data row1 col4\" >-0.0001</td>\n",
       "      <td id=\"T_f3f72_row1_col5\" class=\"data row1 col5\" >0.9097</td>\n",
       "      <td id=\"T_f3f72_row1_col6\" class=\"data row1 col6\" >4.7034</td>\n",
       "      <td id=\"T_f3f72_row1_col7\" class=\"data row1 col7\" >0.0820</td>\n",
       "    </tr>\n",
       "    <tr>\n",
       "      <th id=\"T_f3f72_level0_row2\" class=\"row_heading level0 row2\" >br</th>\n",
       "      <td id=\"T_f3f72_row2_col0\" class=\"data row2 col0\" >Bayesian Ridge</td>\n",
       "      <td id=\"T_f3f72_row2_col1\" class=\"data row2 col1\" >15.6203</td>\n",
       "      <td id=\"T_f3f72_row2_col2\" class=\"data row2 col2\" >74188.0562</td>\n",
       "      <td id=\"T_f3f72_row2_col3\" class=\"data row2 col3\" >177.7995</td>\n",
       "      <td id=\"T_f3f72_row2_col4\" class=\"data row2 col4\" >-0.0001</td>\n",
       "      <td id=\"T_f3f72_row2_col5\" class=\"data row2 col5\" >0.9098</td>\n",
       "      <td id=\"T_f3f72_row2_col6\" class=\"data row2 col6\" >4.7040</td>\n",
       "      <td id=\"T_f3f72_row2_col7\" class=\"data row2 col7\" >0.1540</td>\n",
       "    </tr>\n",
       "    <tr>\n",
       "      <th id=\"T_f3f72_level0_row3\" class=\"row_heading level0 row3\" >en</th>\n",
       "      <td id=\"T_f3f72_row3_col0\" class=\"data row3 col0\" >Elastic Net</td>\n",
       "      <td id=\"T_f3f72_row3_col1\" class=\"data row3 col1\" >15.6235</td>\n",
       "      <td id=\"T_f3f72_row3_col2\" class=\"data row3 col2\" >74188.1228</td>\n",
       "      <td id=\"T_f3f72_row3_col3\" class=\"data row3 col3\" >177.8006</td>\n",
       "      <td id=\"T_f3f72_row3_col4\" class=\"data row3 col4\" >-0.0001</td>\n",
       "      <td id=\"T_f3f72_row3_col5\" class=\"data row3 col5\" >0.9097</td>\n",
       "      <td id=\"T_f3f72_row3_col6\" class=\"data row3 col6\" >4.6927</td>\n",
       "      <td id=\"T_f3f72_row3_col7\" class=\"data row3 col7\" >0.0960</td>\n",
       "    </tr>\n",
       "    <tr>\n",
       "      <th id=\"T_f3f72_level0_row4\" class=\"row_heading level0 row4\" >lar</th>\n",
       "      <td id=\"T_f3f72_row4_col0\" class=\"data row4 col0\" >Least Angle Regression</td>\n",
       "      <td id=\"T_f3f72_row4_col1\" class=\"data row4 col1\" >15.6238</td>\n",
       "      <td id=\"T_f3f72_row4_col2\" class=\"data row4 col2\" >74188.1268</td>\n",
       "      <td id=\"T_f3f72_row4_col3\" class=\"data row4 col3\" >177.8007</td>\n",
       "      <td id=\"T_f3f72_row4_col4\" class=\"data row4 col4\" >-0.0002</td>\n",
       "      <td id=\"T_f3f72_row4_col5\" class=\"data row4 col5\" >0.9097</td>\n",
       "      <td id=\"T_f3f72_row4_col6\" class=\"data row4 col6\" >4.6918</td>\n",
       "      <td id=\"T_f3f72_row4_col7\" class=\"data row4 col7\" >0.0890</td>\n",
       "    </tr>\n",
       "    <tr>\n",
       "      <th id=\"T_f3f72_level0_row5\" class=\"row_heading level0 row5\" >llar</th>\n",
       "      <td id=\"T_f3f72_row5_col0\" class=\"data row5 col0\" >Lasso Least Angle Regression</td>\n",
       "      <td id=\"T_f3f72_row5_col1\" class=\"data row5 col1\" >15.6218</td>\n",
       "      <td id=\"T_f3f72_row5_col2\" class=\"data row5 col2\" >74188.7943</td>\n",
       "      <td id=\"T_f3f72_row5_col3\" class=\"data row5 col3\" >177.8022</td>\n",
       "      <td id=\"T_f3f72_row5_col4\" class=\"data row5 col4\" >-0.0002</td>\n",
       "      <td id=\"T_f3f72_row5_col5\" class=\"data row5 col5\" >0.9105</td>\n",
       "      <td id=\"T_f3f72_row5_col6\" class=\"data row5 col6\" >4.7458</td>\n",
       "      <td id=\"T_f3f72_row5_col7\" class=\"data row5 col7\" >0.0830</td>\n",
       "    </tr>\n",
       "    <tr>\n",
       "      <th id=\"T_f3f72_level0_row6\" class=\"row_heading level0 row6\" >dummy</th>\n",
       "      <td id=\"T_f3f72_row6_col0\" class=\"data row6 col0\" >Dummy Regressor</td>\n",
       "      <td id=\"T_f3f72_row6_col1\" class=\"data row6 col1\" >15.6218</td>\n",
       "      <td id=\"T_f3f72_row6_col2\" class=\"data row6 col2\" >74188.7902</td>\n",
       "      <td id=\"T_f3f72_row6_col3\" class=\"data row6 col3\" >177.8022</td>\n",
       "      <td id=\"T_f3f72_row6_col4\" class=\"data row6 col4\" >-0.0002</td>\n",
       "      <td id=\"T_f3f72_row6_col5\" class=\"data row6 col5\" >0.9105</td>\n",
       "      <td id=\"T_f3f72_row6_col6\" class=\"data row6 col6\" >4.7458</td>\n",
       "      <td id=\"T_f3f72_row6_col7\" class=\"data row6 col7\" >0.0880</td>\n",
       "    </tr>\n",
       "    <tr>\n",
       "      <th id=\"T_f3f72_level0_row7\" class=\"row_heading level0 row7\" >ridge</th>\n",
       "      <td id=\"T_f3f72_row7_col0\" class=\"data row7 col0\" >Ridge Regression</td>\n",
       "      <td id=\"T_f3f72_row7_col1\" class=\"data row7 col1\" >15.6238</td>\n",
       "      <td id=\"T_f3f72_row7_col2\" class=\"data row7 col2\" >74188.1168</td>\n",
       "      <td id=\"T_f3f72_row7_col3\" class=\"data row7 col3\" >177.8007</td>\n",
       "      <td id=\"T_f3f72_row7_col4\" class=\"data row7 col4\" >-0.0002</td>\n",
       "      <td id=\"T_f3f72_row7_col5\" class=\"data row7 col5\" >0.9097</td>\n",
       "      <td id=\"T_f3f72_row7_col6\" class=\"data row7 col6\" >4.6918</td>\n",
       "      <td id=\"T_f3f72_row7_col7\" class=\"data row7 col7\" >0.0770</td>\n",
       "    </tr>\n",
       "    <tr>\n",
       "      <th id=\"T_f3f72_level0_row8\" class=\"row_heading level0 row8\" >lr</th>\n",
       "      <td id=\"T_f3f72_row8_col0\" class=\"data row8 col0\" >Linear Regression</td>\n",
       "      <td id=\"T_f3f72_row8_col1\" class=\"data row8 col1\" >15.6238</td>\n",
       "      <td id=\"T_f3f72_row8_col2\" class=\"data row8 col2\" >74188.1168</td>\n",
       "      <td id=\"T_f3f72_row8_col3\" class=\"data row8 col3\" >177.8007</td>\n",
       "      <td id=\"T_f3f72_row8_col4\" class=\"data row8 col4\" >-0.0002</td>\n",
       "      <td id=\"T_f3f72_row8_col5\" class=\"data row8 col5\" >0.9097</td>\n",
       "      <td id=\"T_f3f72_row8_col6\" class=\"data row8 col6\" >4.6918</td>\n",
       "      <td id=\"T_f3f72_row8_col7\" class=\"data row8 col7\" >1.3970</td>\n",
       "    </tr>\n",
       "    <tr>\n",
       "      <th id=\"T_f3f72_level0_row9\" class=\"row_heading level0 row9\" >huber</th>\n",
       "      <td id=\"T_f3f72_row9_col0\" class=\"data row9 col0\" >Huber Regressor</td>\n",
       "      <td id=\"T_f3f72_row9_col1\" class=\"data row9 col1\" >14.0668</td>\n",
       "      <td id=\"T_f3f72_row9_col2\" class=\"data row9 col2\" >74228.4751</td>\n",
       "      <td id=\"T_f3f72_row9_col3\" class=\"data row9 col3\" >178.0580</td>\n",
       "      <td id=\"T_f3f72_row9_col4\" class=\"data row9 col4\" >-0.0112</td>\n",
       "      <td id=\"T_f3f72_row9_col5\" class=\"data row9 col5\" >0.8239</td>\n",
       "      <td id=\"T_f3f72_row9_col6\" class=\"data row9 col6\" >3.3152</td>\n",
       "      <td id=\"T_f3f72_row9_col7\" class=\"data row9 col7\" >2.6100</td>\n",
       "    </tr>\n",
       "    <tr>\n",
       "      <th id=\"T_f3f72_level0_row10\" class=\"row_heading level0 row10\" >gbr</th>\n",
       "      <td id=\"T_f3f72_row10_col0\" class=\"data row10 col0\" >Gradient Boosting Regressor</td>\n",
       "      <td id=\"T_f3f72_row10_col1\" class=\"data row10 col1\" >14.4979</td>\n",
       "      <td id=\"T_f3f72_row10_col2\" class=\"data row10 col2\" >74208.9274</td>\n",
       "      <td id=\"T_f3f72_row10_col3\" class=\"data row10 col3\" >178.1669</td>\n",
       "      <td id=\"T_f3f72_row10_col4\" class=\"data row10 col4\" >-0.0187</td>\n",
       "      <td id=\"T_f3f72_row10_col5\" class=\"data row10 col5\" >0.8261</td>\n",
       "      <td id=\"T_f3f72_row10_col6\" class=\"data row10 col6\" >4.5344</td>\n",
       "      <td id=\"T_f3f72_row10_col7\" class=\"data row10 col7\" >32.4650</td>\n",
       "    </tr>\n",
       "    <tr>\n",
       "      <th id=\"T_f3f72_level0_row11\" class=\"row_heading level0 row11\" >par</th>\n",
       "      <td id=\"T_f3f72_row11_col0\" class=\"data row11 col0\" >Passive Aggressive Regressor</td>\n",
       "      <td id=\"T_f3f72_row11_col1\" class=\"data row11 col1\" >34.7508</td>\n",
       "      <td id=\"T_f3f72_row11_col2\" class=\"data row11 col2\" >80385.2308</td>\n",
       "      <td id=\"T_f3f72_row11_col3\" class=\"data row11 col3\" >183.6275</td>\n",
       "      <td id=\"T_f3f72_row11_col4\" class=\"data row11 col4\" >-0.0538</td>\n",
       "      <td id=\"T_f3f72_row11_col5\" class=\"data row11 col5\" >1.1322</td>\n",
       "      <td id=\"T_f3f72_row11_col6\" class=\"data row11 col6\" >7.8022</td>\n",
       "      <td id=\"T_f3f72_row11_col7\" class=\"data row11 col7\" >0.8210</td>\n",
       "    </tr>\n",
       "    <tr>\n",
       "      <th id=\"T_f3f72_level0_row12\" class=\"row_heading level0 row12\" >catboost</th>\n",
       "      <td id=\"T_f3f72_row12_col0\" class=\"data row12 col0\" >CatBoost Regressor</td>\n",
       "      <td id=\"T_f3f72_row12_col1\" class=\"data row12 col1\" >9.8726</td>\n",
       "      <td id=\"T_f3f72_row12_col2\" class=\"data row12 col2\" >77574.7506</td>\n",
       "      <td id=\"T_f3f72_row12_col3\" class=\"data row12 col3\" >184.0493</td>\n",
       "      <td id=\"T_f3f72_row12_col4\" class=\"data row12 col4\" >-1.1502</td>\n",
       "      <td id=\"T_f3f72_row12_col5\" class=\"data row12 col5\" >0.5493</td>\n",
       "      <td id=\"T_f3f72_row12_col6\" class=\"data row12 col6\" >2.8541</td>\n",
       "      <td id=\"T_f3f72_row12_col7\" class=\"data row12 col7\" >87.2000</td>\n",
       "    </tr>\n",
       "    <tr>\n",
       "      <th id=\"T_f3f72_level0_row13\" class=\"row_heading level0 row13\" >lightgbm</th>\n",
       "      <td id=\"T_f3f72_row13_col0\" class=\"data row13 col0\" >Light Gradient Boosting Machine</td>\n",
       "      <td id=\"T_f3f72_row13_col1\" class=\"data row13 col1\" >14.2618</td>\n",
       "      <td id=\"T_f3f72_row13_col2\" class=\"data row13 col2\" >77648.2032</td>\n",
       "      <td id=\"T_f3f72_row13_col3\" class=\"data row13 col3\" >199.8299</td>\n",
       "      <td id=\"T_f3f72_row13_col4\" class=\"data row13 col4\" >-1.4491</td>\n",
       "      <td id=\"T_f3f72_row13_col5\" class=\"data row13 col5\" >0.8027</td>\n",
       "      <td id=\"T_f3f72_row13_col6\" class=\"data row13 col6\" >4.3169</td>\n",
       "      <td id=\"T_f3f72_row13_col7\" class=\"data row13 col7\" >4.0670</td>\n",
       "    </tr>\n",
       "    <tr>\n",
       "      <th id=\"T_f3f72_level0_row14\" class=\"row_heading level0 row14\" >xgboost</th>\n",
       "      <td id=\"T_f3f72_row14_col0\" class=\"data row14 col0\" >Extreme Gradient Boosting</td>\n",
       "      <td id=\"T_f3f72_row14_col1\" class=\"data row14 col1\" >13.7716</td>\n",
       "      <td id=\"T_f3f72_row14_col2\" class=\"data row14 col2\" >82154.3398</td>\n",
       "      <td id=\"T_f3f72_row14_col3\" class=\"data row14 col3\" >216.8454</td>\n",
       "      <td id=\"T_f3f72_row14_col4\" class=\"data row14 col4\" >-3.2937</td>\n",
       "      <td id=\"T_f3f72_row14_col5\" class=\"data row14 col5\" >0.7767</td>\n",
       "      <td id=\"T_f3f72_row14_col6\" class=\"data row14 col6\" >4.0321</td>\n",
       "      <td id=\"T_f3f72_row14_col7\" class=\"data row14 col7\" >33.2230</td>\n",
       "    </tr>\n",
       "    <tr>\n",
       "      <th id=\"T_f3f72_level0_row15\" class=\"row_heading level0 row15\" >dt</th>\n",
       "      <td id=\"T_f3f72_row15_col0\" class=\"data row15 col0\" >Decision Tree Regressor</td>\n",
       "      <td id=\"T_f3f72_row15_col1\" class=\"data row15 col1\" >13.2162</td>\n",
       "      <td id=\"T_f3f72_row15_col2\" class=\"data row15 col2\" >82164.9104</td>\n",
       "      <td id=\"T_f3f72_row15_col3\" class=\"data row15 col3\" >217.1759</td>\n",
       "      <td id=\"T_f3f72_row15_col4\" class=\"data row15 col4\" >-3.4239</td>\n",
       "      <td id=\"T_f3f72_row15_col5\" class=\"data row15 col5\" >0.7509</td>\n",
       "      <td id=\"T_f3f72_row15_col6\" class=\"data row15 col6\" >3.7517</td>\n",
       "      <td id=\"T_f3f72_row15_col7\" class=\"data row15 col7\" >2.1980</td>\n",
       "    </tr>\n",
       "    <tr>\n",
       "      <th id=\"T_f3f72_level0_row16\" class=\"row_heading level0 row16\" >et</th>\n",
       "      <td id=\"T_f3f72_row16_col0\" class=\"data row16 col0\" >Extra Trees Regressor</td>\n",
       "      <td id=\"T_f3f72_row16_col1\" class=\"data row16 col1\" >13.1919</td>\n",
       "      <td id=\"T_f3f72_row16_col2\" class=\"data row16 col2\" >82297.8530</td>\n",
       "      <td id=\"T_f3f72_row16_col3\" class=\"data row16 col3\" >217.5322</td>\n",
       "      <td id=\"T_f3f72_row16_col4\" class=\"data row16 col4\" >-3.4341</td>\n",
       "      <td id=\"T_f3f72_row16_col5\" class=\"data row16 col5\" >0.7491</td>\n",
       "      <td id=\"T_f3f72_row16_col6\" class=\"data row16 col6\" >3.7444</td>\n",
       "      <td id=\"T_f3f72_row16_col7\" class=\"data row16 col7\" >59.8750</td>\n",
       "    </tr>\n",
       "    <tr>\n",
       "      <th id=\"T_f3f72_level0_row17\" class=\"row_heading level0 row17\" >rf</th>\n",
       "      <td id=\"T_f3f72_row17_col0\" class=\"data row17 col0\" >Random Forest Regressor</td>\n",
       "      <td id=\"T_f3f72_row17_col1\" class=\"data row17 col1\" >13.2175</td>\n",
       "      <td id=\"T_f3f72_row17_col2\" class=\"data row17 col2\" >83319.3466</td>\n",
       "      <td id=\"T_f3f72_row17_col3\" class=\"data row17 col3\" >220.7253</td>\n",
       "      <td id=\"T_f3f72_row17_col4\" class=\"data row17 col4\" >-3.8336</td>\n",
       "      <td id=\"T_f3f72_row17_col5\" class=\"data row17 col5\" >0.7486</td>\n",
       "      <td id=\"T_f3f72_row17_col6\" class=\"data row17 col6\" >3.7679</td>\n",
       "      <td id=\"T_f3f72_row17_col7\" class=\"data row17 col7\" >72.7860</td>\n",
       "    </tr>\n",
       "    <tr>\n",
       "      <th id=\"T_f3f72_level0_row18\" class=\"row_heading level0 row18\" >knn</th>\n",
       "      <td id=\"T_f3f72_row18_col0\" class=\"data row18 col0\" >K Neighbors Regressor</td>\n",
       "      <td id=\"T_f3f72_row18_col1\" class=\"data row18 col1\" >14.4062</td>\n",
       "      <td id=\"T_f3f72_row18_col2\" class=\"data row18 col2\" >90028.2602</td>\n",
       "      <td id=\"T_f3f72_row18_col3\" class=\"data row18 col3\" >239.5040</td>\n",
       "      <td id=\"T_f3f72_row18_col4\" class=\"data row18 col4\" >-6.6407</td>\n",
       "      <td id=\"T_f3f72_row18_col5\" class=\"data row18 col5\" >0.7946</td>\n",
       "      <td id=\"T_f3f72_row18_col6\" class=\"data row18 col6\" >3.7626</td>\n",
       "      <td id=\"T_f3f72_row18_col7\" class=\"data row18 col7\" >499.6870</td>\n",
       "    </tr>\n",
       "    <tr>\n",
       "      <th id=\"T_f3f72_level0_row19\" class=\"row_heading level0 row19\" >ada</th>\n",
       "      <td id=\"T_f3f72_row19_col0\" class=\"data row19 col0\" >AdaBoost Regressor</td>\n",
       "      <td id=\"T_f3f72_row19_col1\" class=\"data row19 col1\" >16.7331</td>\n",
       "      <td id=\"T_f3f72_row19_col2\" class=\"data row19 col2\" >178906.7403</td>\n",
       "      <td id=\"T_f3f72_row19_col3\" class=\"data row19 col3\" >389.2574</td>\n",
       "      <td id=\"T_f3f72_row19_col4\" class=\"data row19 col4\" >-46.2576</td>\n",
       "      <td id=\"T_f3f72_row19_col5\" class=\"data row19 col5\" >0.8756</td>\n",
       "      <td id=\"T_f3f72_row19_col6\" class=\"data row19 col6\" >4.8598</td>\n",
       "      <td id=\"T_f3f72_row19_col7\" class=\"data row19 col7\" >4.4210</td>\n",
       "    </tr>\n",
       "  </tbody>\n",
       "</table>\n"
      ],
      "text/plain": [
       "<pandas.io.formats.style.Styler at 0x2423c0fc8d0>"
      ]
     },
     "metadata": {},
     "output_type": "display_data"
    }
   ],
   "source": [
    "setup(jan_tbl, target='duration', ignore_features= ['pickup_datetime', 'dropOff_datetime', 'SR_Flag', 'dispatching_base_num', 'Affiliated_base_number' ] )\n",
    "\n",
    "best_model = compare_models()"
   ]
  },
  {
   "cell_type": "code",
   "execution_count": 45,
   "id": "2b021fcc",
   "metadata": {},
   "outputs": [
    {
     "data": {
      "application/vnd.jupyter.widget-view+json": {
       "model_id": "9a6669784f2d4367a5157f98a86b1756",
       "version_major": 2,
       "version_minor": 0
      },
      "text/plain": [
       "interactive(children=(ToggleButtons(description='Plot Type:', icons=('',), options=(('Hyperparameters', 'param…"
      ]
     },
     "metadata": {},
     "output_type": "display_data"
    }
   ],
   "source": [
    "evaluate_model(best_model)"
   ]
  },
  {
   "cell_type": "code",
   "execution_count": 46,
   "id": "3ddfea7c",
   "metadata": {},
   "outputs": [
    {
     "data": {
      "text/html": [
       "<style type=\"text/css\">\n",
       "</style>\n",
       "<table id=\"T_6123b_\">\n",
       "  <thead>\n",
       "    <tr>\n",
       "      <th class=\"blank level0\" >&nbsp;</th>\n",
       "      <th class=\"col_heading level0 col0\" >Model</th>\n",
       "      <th class=\"col_heading level0 col1\" >MAE</th>\n",
       "      <th class=\"col_heading level0 col2\" >MSE</th>\n",
       "      <th class=\"col_heading level0 col3\" >RMSE</th>\n",
       "      <th class=\"col_heading level0 col4\" >R2</th>\n",
       "      <th class=\"col_heading level0 col5\" >RMSLE</th>\n",
       "      <th class=\"col_heading level0 col6\" >MAPE</th>\n",
       "    </tr>\n",
       "  </thead>\n",
       "  <tbody>\n",
       "    <tr>\n",
       "      <th id=\"T_6123b_level0_row0\" class=\"row_heading level0 row0\" >0</th>\n",
       "      <td id=\"T_6123b_row0_col0\" class=\"data row0 col0\" >Lasso Regression</td>\n",
       "      <td id=\"T_6123b_row0_col1\" class=\"data row0 col1\" >16.4623</td>\n",
       "      <td id=\"T_6123b_row0_col2\" class=\"data row0 col2\" >8220.7689</td>\n",
       "      <td id=\"T_6123b_row0_col3\" class=\"data row0 col3\" >90.6685</td>\n",
       "      <td id=\"T_6123b_row0_col4\" class=\"data row0 col4\" >-0.0005</td>\n",
       "      <td id=\"T_6123b_row0_col5\" class=\"data row0 col5\" >0.9084</td>\n",
       "      <td id=\"T_6123b_row0_col6\" class=\"data row0 col6\" >4.5134</td>\n",
       "    </tr>\n",
       "  </tbody>\n",
       "</table>\n"
      ],
      "text/plain": [
       "<pandas.io.formats.style.Styler at 0x2450df46898>"
      ]
     },
     "metadata": {},
     "output_type": "display_data"
    }
   ],
   "source": [
    "prediction = predict_model(best_model, feb_tbl)"
   ]
  },
  {
   "cell_type": "code",
   "execution_count": null,
   "id": "1b3e8841",
   "metadata": {},
   "outputs": [],
   "source": []
  }
 ],
 "metadata": {
  "kernelspec": {
   "display_name": "Python 3 (ipykernel)",
   "language": "python",
   "name": "python3"
  },
  "language_info": {
   "codemirror_mode": {
    "name": "ipython",
    "version": 3
   },
   "file_extension": ".py",
   "mimetype": "text/x-python",
   "name": "python",
   "nbconvert_exporter": "python",
   "pygments_lexer": "ipython3",
   "version": "3.7.3"
  }
 },
 "nbformat": 4,
 "nbformat_minor": 5
}
